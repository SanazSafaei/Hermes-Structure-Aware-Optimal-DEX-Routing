{
 "cells": [
  {
   "cell_type": "code",
   "execution_count": 6,
   "metadata": {},
   "outputs": [],
   "source": [
    "import sys\n",
    "import os\n",
    "\n",
    "# Add the root directory to the Python environment\n",
    "root_dir = os.path.abspath(os.path.join(os.getcwd(), \"..\"))\n",
    "sys.path.append(root_dir)"
   ]
  },
  {
   "cell_type": "code",
   "execution_count": 7,
   "metadata": {},
   "outputs": [],
   "source": [
    "import networkx as nx\n",
    "import matplotlib.pyplot as plt\n",
    "import pandas as pd\n",
    "from src.graph import create_graph"
   ]
  },
  {
   "cell_type": "code",
   "execution_count": 8,
   "metadata": {},
   "outputs": [
    {
     "name": "stdout",
     "output_type": "stream",
     "text": [
      "({'a': [], 'b': ['a'], 'c': ['e'], 'd': ['b'], 'e': ['d']}, {'a': 0, 'b': 5, 'c': 6, 'd': 6, 'e': 7})\n"
     ]
    }
   ],
   "source": [
    "# sample from : https://www.geeksforgeeks.org/bellman-ford-algorithm-dp-23/\n",
    "test_graph = nx.MultiDiGraph()\n",
    "test_graph.add_nodes_from(['a','b','c','d','e'])\n",
    "test_graph.add_edge('a', 'b', weight=5)\n",
    "test_graph.add_edge('b', 'c', weight=2)\n",
    "test_graph.add_edge('e', 'c', weight=-1)\n",
    "test_graph.add_edge('b', 'd', weight=1)\n",
    "test_graph.add_edge('d', 'e', weight=1)\n",
    "\n",
    "result = nx.bellman_ford_predecessor_and_distance(test_graph, 'a')\n",
    "print(result)"
   ]
  },
  {
   "cell_type": "code",
   "execution_count": null,
   "metadata": {},
   "outputs": [
    {
     "ename": "NetworkXUnbounded",
     "evalue": "Negative cycle detected.",
     "output_type": "error",
     "traceback": [
      "\u001b[0;31m---------------------------------------------------------------------------\u001b[0m",
      "\u001b[0;31mNetworkXUnbounded\u001b[0m                         Traceback (most recent call last)",
      "Cell \u001b[0;32mIn[25], line 8\u001b[0m\n\u001b[1;32m      5\u001b[0m test_graph\u001b[38;5;241m.\u001b[39madd_edge(\u001b[38;5;124m'\u001b[39m\u001b[38;5;124mc\u001b[39m\u001b[38;5;124m'\u001b[39m, \u001b[38;5;124m'\u001b[39m\u001b[38;5;124md\u001b[39m\u001b[38;5;124m'\u001b[39m, weight\u001b[38;5;241m=\u001b[39m\u001b[38;5;241m5\u001b[39m)\n\u001b[1;32m      6\u001b[0m test_graph\u001b[38;5;241m.\u001b[39madd_edge(\u001b[38;5;124m'\u001b[39m\u001b[38;5;124md\u001b[39m\u001b[38;5;124m'\u001b[39m, \u001b[38;5;124m'\u001b[39m\u001b[38;5;124mb\u001b[39m\u001b[38;5;124m'\u001b[39m, weight\u001b[38;5;241m=\u001b[39m\u001b[38;5;241m-\u001b[39m\u001b[38;5;241m2\u001b[39m)\n\u001b[0;32m----> 8\u001b[0m result \u001b[38;5;241m=\u001b[39m \u001b[43mnx\u001b[49m\u001b[38;5;241;43m.\u001b[39;49m\u001b[43mbellman_ford_predecessor_and_distance\u001b[49m\u001b[43m(\u001b[49m\u001b[43mtest_graph\u001b[49m\u001b[43m,\u001b[49m\u001b[43m \u001b[49m\u001b[38;5;124;43m'\u001b[39;49m\u001b[38;5;124;43ma\u001b[39;49m\u001b[38;5;124;43m'\u001b[39;49m\u001b[43m)\u001b[49m\n\u001b[1;32m      9\u001b[0m \u001b[38;5;28mprint\u001b[39m(result)\n",
      "File \u001b[0;32m~/PersonalProjects/uniswap-crawler/.venv/lib/python3.9/site-packages/networkx/utils/backends.py:412\u001b[0m, in \u001b[0;36m_dispatch.__call__\u001b[0;34m(self, backend, *args, **kwargs)\u001b[0m\n\u001b[1;32m    409\u001b[0m \u001b[38;5;28;01mdef\u001b[39;00m\u001b[38;5;250m \u001b[39m\u001b[38;5;21m__call__\u001b[39m(\u001b[38;5;28mself\u001b[39m, \u001b[38;5;241m/\u001b[39m, \u001b[38;5;241m*\u001b[39margs, backend\u001b[38;5;241m=\u001b[39m\u001b[38;5;28;01mNone\u001b[39;00m, \u001b[38;5;241m*\u001b[39m\u001b[38;5;241m*\u001b[39mkwargs):\n\u001b[1;32m    410\u001b[0m     \u001b[38;5;28;01mif\u001b[39;00m \u001b[38;5;129;01mnot\u001b[39;00m backends:\n\u001b[1;32m    411\u001b[0m         \u001b[38;5;66;03m# Fast path if no backends are installed\u001b[39;00m\n\u001b[0;32m--> 412\u001b[0m         \u001b[38;5;28;01mreturn\u001b[39;00m \u001b[38;5;28;43mself\u001b[39;49m\u001b[38;5;241;43m.\u001b[39;49m\u001b[43morig_func\u001b[49m\u001b[43m(\u001b[49m\u001b[38;5;241;43m*\u001b[39;49m\u001b[43margs\u001b[49m\u001b[43m,\u001b[49m\u001b[43m \u001b[49m\u001b[38;5;241;43m*\u001b[39;49m\u001b[38;5;241;43m*\u001b[39;49m\u001b[43mkwargs\u001b[49m\u001b[43m)\u001b[49m\n\u001b[1;32m    414\u001b[0m     \u001b[38;5;66;03m# Use `backend_name` in this function instead of `backend`\u001b[39;00m\n\u001b[1;32m    415\u001b[0m     backend_name \u001b[38;5;241m=\u001b[39m backend\n",
      "File \u001b[0;32m~/PersonalProjects/uniswap-crawler/.venv/lib/python3.9/site-packages/networkx/algorithms/shortest_paths/weighted.py:1263\u001b[0m, in \u001b[0;36mbellman_ford_predecessor_and_distance\u001b[0;34m(G, source, target, weight, heuristic)\u001b[0m\n\u001b[1;32m   1259\u001b[0m     \u001b[38;5;28;01mreturn\u001b[39;00m pred, dist\n\u001b[1;32m   1261\u001b[0m weight \u001b[38;5;241m=\u001b[39m _weight_function(G, weight)\n\u001b[0;32m-> 1263\u001b[0m dist \u001b[38;5;241m=\u001b[39m \u001b[43m_bellman_ford\u001b[49m\u001b[43m(\u001b[49m\n\u001b[1;32m   1264\u001b[0m \u001b[43m    \u001b[49m\u001b[43mG\u001b[49m\u001b[43m,\u001b[49m\u001b[43m \u001b[49m\u001b[43m[\u001b[49m\u001b[43msource\u001b[49m\u001b[43m]\u001b[49m\u001b[43m,\u001b[49m\u001b[43m \u001b[49m\u001b[43mweight\u001b[49m\u001b[43m,\u001b[49m\u001b[43m \u001b[49m\u001b[43mpred\u001b[49m\u001b[38;5;241;43m=\u001b[39;49m\u001b[43mpred\u001b[49m\u001b[43m,\u001b[49m\u001b[43m \u001b[49m\u001b[43mdist\u001b[49m\u001b[38;5;241;43m=\u001b[39;49m\u001b[43mdist\u001b[49m\u001b[43m,\u001b[49m\u001b[43m \u001b[49m\u001b[43mtarget\u001b[49m\u001b[38;5;241;43m=\u001b[39;49m\u001b[43mtarget\u001b[49m\u001b[43m,\u001b[49m\u001b[43m \u001b[49m\u001b[43mheuristic\u001b[49m\u001b[38;5;241;43m=\u001b[39;49m\u001b[43mheuristic\u001b[49m\n\u001b[1;32m   1265\u001b[0m \u001b[43m\u001b[49m\u001b[43m)\u001b[49m\n\u001b[1;32m   1266\u001b[0m \u001b[38;5;28;01mreturn\u001b[39;00m (pred, dist)\n",
      "File \u001b[0;32m~/PersonalProjects/uniswap-crawler/.venv/lib/python3.9/site-packages/networkx/algorithms/shortest_paths/weighted.py:1351\u001b[0m, in \u001b[0;36m_bellman_ford\u001b[0;34m(G, source, weight, pred, paths, dist, target, heuristic)\u001b[0m\n\u001b[1;32m   1342\u001b[0m negative_cycle_found \u001b[38;5;241m=\u001b[39m _inner_bellman_ford(\n\u001b[1;32m   1343\u001b[0m     G,\n\u001b[1;32m   1344\u001b[0m     source,\n\u001b[0;32m   (...)\u001b[0m\n\u001b[1;32m   1348\u001b[0m     heuristic,\n\u001b[1;32m   1349\u001b[0m )\n\u001b[1;32m   1350\u001b[0m \u001b[38;5;28;01mif\u001b[39;00m negative_cycle_found \u001b[38;5;129;01mis\u001b[39;00m \u001b[38;5;129;01mnot\u001b[39;00m \u001b[38;5;28;01mNone\u001b[39;00m:\n\u001b[0;32m-> 1351\u001b[0m     \u001b[38;5;28;01mraise\u001b[39;00m nx\u001b[38;5;241m.\u001b[39mNetworkXUnbounded(\u001b[38;5;124m\"\u001b[39m\u001b[38;5;124mNegative cycle detected.\u001b[39m\u001b[38;5;124m\"\u001b[39m)\n\u001b[1;32m   1353\u001b[0m \u001b[38;5;28;01mif\u001b[39;00m paths \u001b[38;5;129;01mis\u001b[39;00m \u001b[38;5;129;01mnot\u001b[39;00m \u001b[38;5;28;01mNone\u001b[39;00m:\n\u001b[1;32m   1354\u001b[0m     sources \u001b[38;5;241m=\u001b[39m \u001b[38;5;28mset\u001b[39m(source)\n",
      "\u001b[0;31mNetworkXUnbounded\u001b[0m: Negative cycle detected."
     ]
    }
   ],
   "source": [
    "# sample from : https://www.geeksforgeeks.org/bellman-ford-algorithm-dp-23/\n",
    "test_graph = nx.MultiDiGraph()\n",
    "test_graph.add_nodes_from(['a','b','c','d'])\n",
    "test_graph.add_edge('a', 'b', weight=4)\n",
    "test_graph.add_edge('b', 'c', weight=-6)\n",
    "test_graph.add_edge('c', 'd', weight=5)\n",
    "test_graph.add_edge('d', 'b', weight=-2)\n",
    "\n",
    "result = nx.bellman_ford_predecessor_and_distance(test_graph, 'a')\n",
    "print(result)"
   ]
  },
  {
   "cell_type": "code",
   "execution_count": 12,
   "metadata": {},
   "outputs": [
    {
     "name": "stdout",
     "output_type": "stream",
     "text": [
      "{'a': {'a': ['a'], 'b': ['a', 'b'], 'd': ['a', 'b', 'c', 'd'], 'c': ['a', 'b', 'c']}, 'b': {'b': ['b'], 'c': ['b', 'c'], 'd': ['b', 'c', 'd']}, 'c': {'c': ['c'], 'd': ['c', 'd']}, 'd': {'d': ['d']}}\n"
     ]
    }
   ],
   "source": [
    "# sample from : https://www.geeksforgeeks.org/dsa/johnsons-algorithm/\n",
    "test_graph = nx.MultiDiGraph()\n",
    "test_graph.add_nodes_from(['a','b','c','d'])\n",
    "test_graph.add_edge('a', 'b', weight=-5)\n",
    "test_graph.add_edge('a', 'd', weight=3)\n",
    "test_graph.add_edge('a', 'c', weight=2)\n",
    "test_graph.add_edge('b', 'c', weight=-4)\n",
    "test_graph.add_edge('c', 'd', weight=-1)\n",
    "\n",
    "result = nx.johnson(test_graph)\n",
    "print(result)\n"
   ]
  },
  {
   "cell_type": "code",
   "execution_count": 26,
   "metadata": {},
   "outputs": [
    {
     "name": "stdout",
     "output_type": "stream",
     "text": [
      "{'0': {'0': ['0'], '1': ['0', '1'], '3': ['0', '1', '2', '4', '3'], '2': ['0', '1', '2'], '4': ['0', '1', '2', '4']}, '1': {'1': ['1'], '3': ['1', '2', '4', '3'], '2': ['1', '2'], '4': ['1', '2', '4']}, '3': {'3': ['3']}, '2': {'2': ['2'], '4': ['2', '4'], '3': ['2', '4', '3']}, '4': {'4': ['4'], '3': ['4', '3']}}\n"
     ]
    }
   ],
   "source": [
    "# sample from : https://www.geeksforgeeks.org/bellman-ford-algorithm-dp-23/\n",
    "test_graph = nx.MultiDiGraph()\n",
    "test_graph.add_nodes_from(['0','1','3','2','4'])\n",
    "test_graph.add_edge('0', '1', weight=5)\n",
    "test_graph.add_edge('1', '3', weight=2)\n",
    "test_graph.add_edge('4', '3', weight=-1)\n",
    "test_graph.add_edge('1', '2', weight=1)\n",
    "test_graph.add_edge('2', '4', weight=1)\n",
    "\n",
    "result = nx.johnson(test_graph)\n",
    "print(result)"
   ]
  },
  {
   "cell_type": "code",
   "execution_count": 16,
   "metadata": {},
   "outputs": [
    {
     "ename": "NetworkXUnbounded",
     "evalue": "Negative cycle detected.",
     "output_type": "error",
     "traceback": [
      "\u001b[0;31m---------------------------------------------------------------------------\u001b[0m",
      "\u001b[0;31mNetworkXUnbounded\u001b[0m                         Traceback (most recent call last)",
      "Cell \u001b[0;32mIn[16], line 8\u001b[0m\n\u001b[1;32m      5\u001b[0m test_graph\u001b[38;5;241m.\u001b[39madd_edge(\u001b[38;5;124m'\u001b[39m\u001b[38;5;124mc\u001b[39m\u001b[38;5;124m'\u001b[39m, \u001b[38;5;124m'\u001b[39m\u001b[38;5;124md\u001b[39m\u001b[38;5;124m'\u001b[39m, weight\u001b[38;5;241m=\u001b[39m\u001b[38;5;241m5\u001b[39m)\n\u001b[1;32m      6\u001b[0m test_graph\u001b[38;5;241m.\u001b[39madd_edge(\u001b[38;5;124m'\u001b[39m\u001b[38;5;124md\u001b[39m\u001b[38;5;124m'\u001b[39m, \u001b[38;5;124m'\u001b[39m\u001b[38;5;124mb\u001b[39m\u001b[38;5;124m'\u001b[39m, weight\u001b[38;5;241m=\u001b[39m\u001b[38;5;241m-\u001b[39m\u001b[38;5;241m2\u001b[39m)\n\u001b[0;32m----> 8\u001b[0m result \u001b[38;5;241m=\u001b[39m \u001b[43mnx\u001b[49m\u001b[38;5;241;43m.\u001b[39;49m\u001b[43mjohnson\u001b[49m\u001b[43m(\u001b[49m\u001b[43mtest_graph\u001b[49m\u001b[43m)\u001b[49m\n\u001b[1;32m      9\u001b[0m \u001b[38;5;28mprint\u001b[39m(result)\n",
      "File \u001b[0;32m~/PersonalProjects/uniswap-crawler/.venv/lib/python3.9/site-packages/networkx/utils/backends.py:412\u001b[0m, in \u001b[0;36m_dispatch.__call__\u001b[0;34m(self, backend, *args, **kwargs)\u001b[0m\n\u001b[1;32m    409\u001b[0m \u001b[38;5;28;01mdef\u001b[39;00m\u001b[38;5;250m \u001b[39m\u001b[38;5;21m__call__\u001b[39m(\u001b[38;5;28mself\u001b[39m, \u001b[38;5;241m/\u001b[39m, \u001b[38;5;241m*\u001b[39margs, backend\u001b[38;5;241m=\u001b[39m\u001b[38;5;28;01mNone\u001b[39;00m, \u001b[38;5;241m*\u001b[39m\u001b[38;5;241m*\u001b[39mkwargs):\n\u001b[1;32m    410\u001b[0m     \u001b[38;5;28;01mif\u001b[39;00m \u001b[38;5;129;01mnot\u001b[39;00m backends:\n\u001b[1;32m    411\u001b[0m         \u001b[38;5;66;03m# Fast path if no backends are installed\u001b[39;00m\n\u001b[0;32m--> 412\u001b[0m         \u001b[38;5;28;01mreturn\u001b[39;00m \u001b[38;5;28;43mself\u001b[39;49m\u001b[38;5;241;43m.\u001b[39;49m\u001b[43morig_func\u001b[49m\u001b[43m(\u001b[49m\u001b[38;5;241;43m*\u001b[39;49m\u001b[43margs\u001b[49m\u001b[43m,\u001b[49m\u001b[43m \u001b[49m\u001b[38;5;241;43m*\u001b[39;49m\u001b[38;5;241;43m*\u001b[39;49m\u001b[43mkwargs\u001b[49m\u001b[43m)\u001b[49m\n\u001b[1;32m    414\u001b[0m     \u001b[38;5;66;03m# Use `backend_name` in this function instead of `backend`\u001b[39;00m\n\u001b[1;32m    415\u001b[0m     backend_name \u001b[38;5;241m=\u001b[39m backend\n",
      "File \u001b[0;32m~/PersonalProjects/uniswap-crawler/.venv/lib/python3.9/site-packages/networkx/algorithms/shortest_paths/weighted.py:2502\u001b[0m, in \u001b[0;36mjohnson\u001b[0;34m(G, weight)\u001b[0m\n\u001b[1;32m   2499\u001b[0m weight \u001b[38;5;241m=\u001b[39m _weight_function(G, weight)\n\u001b[1;32m   2501\u001b[0m \u001b[38;5;66;03m# Calculate distance of shortest paths\u001b[39;00m\n\u001b[0;32m-> 2502\u001b[0m dist_bellman \u001b[38;5;241m=\u001b[39m \u001b[43m_bellman_ford\u001b[49m\u001b[43m(\u001b[49m\u001b[43mG\u001b[49m\u001b[43m,\u001b[49m\u001b[43m \u001b[49m\u001b[38;5;28;43mlist\u001b[39;49m\u001b[43m(\u001b[49m\u001b[43mG\u001b[49m\u001b[43m)\u001b[49m\u001b[43m,\u001b[49m\u001b[43m \u001b[49m\u001b[43mweight\u001b[49m\u001b[43m,\u001b[49m\u001b[43m \u001b[49m\u001b[43mpred\u001b[49m\u001b[38;5;241;43m=\u001b[39;49m\u001b[43mpred\u001b[49m\u001b[43m,\u001b[49m\u001b[43m \u001b[49m\u001b[43mdist\u001b[49m\u001b[38;5;241;43m=\u001b[39;49m\u001b[43mdist\u001b[49m\u001b[43m)\u001b[49m\n\u001b[1;32m   2504\u001b[0m \u001b[38;5;66;03m# Update the weight function to take into account the Bellman--Ford\u001b[39;00m\n\u001b[1;32m   2505\u001b[0m \u001b[38;5;66;03m# relaxation distances.\u001b[39;00m\n\u001b[1;32m   2506\u001b[0m \u001b[38;5;28;01mdef\u001b[39;00m\u001b[38;5;250m \u001b[39m\u001b[38;5;21mnew_weight\u001b[39m(u, v, d):\n",
      "File \u001b[0;32m~/PersonalProjects/uniswap-crawler/.venv/lib/python3.9/site-packages/networkx/algorithms/shortest_paths/weighted.py:1351\u001b[0m, in \u001b[0;36m_bellman_ford\u001b[0;34m(G, source, weight, pred, paths, dist, target, heuristic)\u001b[0m\n\u001b[1;32m   1342\u001b[0m negative_cycle_found \u001b[38;5;241m=\u001b[39m _inner_bellman_ford(\n\u001b[1;32m   1343\u001b[0m     G,\n\u001b[1;32m   1344\u001b[0m     source,\n\u001b[0;32m   (...)\u001b[0m\n\u001b[1;32m   1348\u001b[0m     heuristic,\n\u001b[1;32m   1349\u001b[0m )\n\u001b[1;32m   1350\u001b[0m \u001b[38;5;28;01mif\u001b[39;00m negative_cycle_found \u001b[38;5;129;01mis\u001b[39;00m \u001b[38;5;129;01mnot\u001b[39;00m \u001b[38;5;28;01mNone\u001b[39;00m:\n\u001b[0;32m-> 1351\u001b[0m     \u001b[38;5;28;01mraise\u001b[39;00m nx\u001b[38;5;241m.\u001b[39mNetworkXUnbounded(\u001b[38;5;124m\"\u001b[39m\u001b[38;5;124mNegative cycle detected.\u001b[39m\u001b[38;5;124m\"\u001b[39m)\n\u001b[1;32m   1353\u001b[0m \u001b[38;5;28;01mif\u001b[39;00m paths \u001b[38;5;129;01mis\u001b[39;00m \u001b[38;5;129;01mnot\u001b[39;00m \u001b[38;5;28;01mNone\u001b[39;00m:\n\u001b[1;32m   1354\u001b[0m     sources \u001b[38;5;241m=\u001b[39m \u001b[38;5;28mset\u001b[39m(source)\n",
      "\u001b[0;31mNetworkXUnbounded\u001b[0m: Negative cycle detected."
     ]
    }
   ],
   "source": [
    "# sample from : https://www.geeksforgeeks.org/bellman-ford-algorithm-dp-23/\n",
    "test_graph = nx.MultiDiGraph()\n",
    "test_graph.add_nodes_from(['a','b','c','d'])\n",
    "test_graph.add_edge('a', 'b', weight=4)\n",
    "test_graph.add_edge('b', 'c', weight=-6)\n",
    "test_graph.add_edge('c', 'd', weight=5)\n",
    "test_graph.add_edge('d', 'b', weight=-2)\n",
    "\n",
    "result = nx.johnson(test_graph)\n",
    "print(result)"
   ]
  },
  {
   "cell_type": "code",
   "execution_count": 24,
   "metadata": {},
   "outputs": [
    {
     "name": "stdout",
     "output_type": "stream",
     "text": [
      "Shortest Path Distance Matrix\n",
      "========================================\n",
      "          0     1     2     3     4\n",
      "     ------------------------------\n",
      "  0       0     4     5     5     7\n",
      "  1       3     0     1     4     6\n",
      "  2       2     6     0     3     5\n",
      "  3       3     7     1     0     2\n",
      "  4       1     5     5     4     0\n"
     ]
    }
   ],
   "source": [
    "#sample from : https://www.geeksforgeeks.org/dsa/floyd-warshall-algorithm-dp-16/\n",
    "test_graph = nx.MultiDiGraph()\n",
    "test_graph.add_nodes_from(['0','1','2','3','4'])\n",
    "test_graph.add_edge('0', '1', weight=4)\n",
    "test_graph.add_edge('4', '0', weight=1)\n",
    "test_graph.add_edge('0', '3', weight=5)\n",
    "test_graph.add_edge('1', '4', weight=6)\n",
    "test_graph.add_edge('1', '2', weight=1)\n",
    "test_graph.add_edge('4', '3', weight=4)\n",
    "test_graph.add_edge('3', '4', weight=2)\n",
    "test_graph.add_edge('3', '2', weight=1)\n",
    "test_graph.add_edge('2', '3', weight=3)\n",
    "test_graph.add_edge('2', '0', weight=2)\n",
    "\n",
    "\n",
    "result = nx.floyd_warshall(test_graph)\n",
    "nodes = sorted(result.keys())\n",
    "    \n",
    "print(\"Shortest Path Distance Matrix\")\n",
    "print(\"=\" * 40)\n",
    "\n",
    "# Header\n",
    "print(\"     \", end=\"\")\n",
    "for node in nodes:\n",
    "    print(f\"{node:>6}\", end=\"\")\n",
    "print()\n",
    "\n",
    "# Separator\n",
    "print(\"     \" + \"-\" * (6 * len(nodes)))\n",
    "\n",
    "# Rows\n",
    "for source in nodes:\n",
    "    print(f\"{source:>3}  \", end=\"\")\n",
    "    for target in nodes:\n",
    "        distance = result[source][target]\n",
    "        if distance == float('inf'):\n",
    "            print(f\"{'∞':>6}\", end=\"\")\n",
    "        else:\n",
    "            print(f\"{distance:>6.0f}\", end=\"\")\n",
    "    print() "
   ]
  }
 ],
 "metadata": {
  "kernelspec": {
   "display_name": ".venv",
   "language": "python",
   "name": "python3"
  },
  "language_info": {
   "codemirror_mode": {
    "name": "ipython",
    "version": 3
   },
   "file_extension": ".py",
   "mimetype": "text/x-python",
   "name": "python",
   "nbconvert_exporter": "python",
   "pygments_lexer": "ipython3",
   "version": "3.9.6"
  }
 },
 "nbformat": 4,
 "nbformat_minor": 2
}
