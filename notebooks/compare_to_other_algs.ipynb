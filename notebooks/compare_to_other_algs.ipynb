{
 "cells": [
  {
   "cell_type": "code",
   "execution_count": 2,
   "metadata": {},
   "outputs": [],
   "source": [
    "import sys\n",
    "import os\n",
    "\n",
    "# Add the root directory to the Python environment\n",
    "root_dir = os.path.abspath(os.path.join(os.getcwd(), \"..\"))\n",
    "sys.path.append(root_dir)"
   ]
  },
  {
   "cell_type": "code",
   "execution_count": 3,
   "metadata": {},
   "outputs": [],
   "source": [
    "import networkx as nx\n",
    "import matplotlib.pyplot as plt\n",
    "import pandas as pd"
   ]
  },
  {
   "cell_type": "code",
   "execution_count": 24,
   "metadata": {},
   "outputs": [],
   "source": [
    "compare_algo = 'bf'\n"
   ]
  },
  {
   "cell_type": "code",
   "execution_count": 25,
   "metadata": {},
   "outputs": [
    {
     "data": {
      "text/html": [
       "<div>\n",
       "<style scoped>\n",
       "    .dataframe tbody tr th:only-of-type {\n",
       "        vertical-align: middle;\n",
       "    }\n",
       "\n",
       "    .dataframe tbody tr th {\n",
       "        vertical-align: top;\n",
       "    }\n",
       "\n",
       "    .dataframe thead th {\n",
       "        text-align: right;\n",
       "    }\n",
       "</style>\n",
       "<table border=\"1\" class=\"dataframe\">\n",
       "  <thead>\n",
       "    <tr style=\"text-align: right;\">\n",
       "      <th></th>\n",
       "      <th>coin</th>\n",
       "      <th>err</th>\n",
       "      <th>algo_time</th>\n",
       "      <th>algo</th>\n",
       "      <th>block</th>\n",
       "      <th>prep_time</th>\n",
       "      <th>n_nodes</th>\n",
       "      <th>n_edges</th>\n",
       "      <th>top_coin_count</th>\n",
       "      <th>avg_time</th>\n",
       "      <th>is_timeout</th>\n",
       "      <th>is_failed</th>\n",
       "    </tr>\n",
       "  </thead>\n",
       "  <tbody>\n",
       "    <tr>\n",
       "      <th>0</th>\n",
       "      <td>0xc944e90c64b2c07662a292be6244bdf05cda44a7</td>\n",
       "      <td>exception: Negative cycle detected.</td>\n",
       "      <td>0.737254</td>\n",
       "      <td>bf</td>\n",
       "      <td>22820266</td>\n",
       "      <td>0.000001</td>\n",
       "      <td>1000</td>\n",
       "      <td>4414</td>\n",
       "      <td>1000</td>\n",
       "      <td>0.737254</td>\n",
       "      <td>False</td>\n",
       "      <td>True</td>\n",
       "    </tr>\n",
       "    <tr>\n",
       "      <th>1</th>\n",
       "      <td>0x9e9fbde7c7a83c43913bddc8779158f1368f0413</td>\n",
       "      <td>exception: Negative cycle detected.</td>\n",
       "      <td>0.720065</td>\n",
       "      <td>bf</td>\n",
       "      <td>22820266</td>\n",
       "      <td>0.000001</td>\n",
       "      <td>1000</td>\n",
       "      <td>4414</td>\n",
       "      <td>1000</td>\n",
       "      <td>NaN</td>\n",
       "      <td>False</td>\n",
       "      <td>True</td>\n",
       "    </tr>\n",
       "    <tr>\n",
       "      <th>2</th>\n",
       "      <td>0xfdd070e34cbd0923d307f3af481be5bddac4f487</td>\n",
       "      <td>exception: Negative cycle detected.</td>\n",
       "      <td>0.741767</td>\n",
       "      <td>bf</td>\n",
       "      <td>22820266</td>\n",
       "      <td>0.000001</td>\n",
       "      <td>1000</td>\n",
       "      <td>4414</td>\n",
       "      <td>1000</td>\n",
       "      <td>NaN</td>\n",
       "      <td>False</td>\n",
       "      <td>True</td>\n",
       "    </tr>\n",
       "    <tr>\n",
       "      <th>3</th>\n",
       "      <td>0xfe0c30065b384f05761f15d0cc899d4f9f9cc0eb</td>\n",
       "      <td>exception: Negative cycle detected.</td>\n",
       "      <td>0.735582</td>\n",
       "      <td>bf</td>\n",
       "      <td>22820266</td>\n",
       "      <td>0.000001</td>\n",
       "      <td>1000</td>\n",
       "      <td>4414</td>\n",
       "      <td>1000</td>\n",
       "      <td>NaN</td>\n",
       "      <td>False</td>\n",
       "      <td>True</td>\n",
       "    </tr>\n",
       "    <tr>\n",
       "      <th>4</th>\n",
       "      <td>0x990f341946a3fdb507ae7e52d17851b87168017c</td>\n",
       "      <td>exception: Negative cycle detected.</td>\n",
       "      <td>0.891082</td>\n",
       "      <td>bf</td>\n",
       "      <td>22820266</td>\n",
       "      <td>0.000001</td>\n",
       "      <td>1000</td>\n",
       "      <td>4414</td>\n",
       "      <td>1000</td>\n",
       "      <td>NaN</td>\n",
       "      <td>False</td>\n",
       "      <td>True</td>\n",
       "    </tr>\n",
       "  </tbody>\n",
       "</table>\n",
       "</div>"
      ],
      "text/plain": [
       "                                         coin  \\\n",
       "0  0xc944e90c64b2c07662a292be6244bdf05cda44a7   \n",
       "1  0x9e9fbde7c7a83c43913bddc8779158f1368f0413   \n",
       "2  0xfdd070e34cbd0923d307f3af481be5bddac4f487   \n",
       "3  0xfe0c30065b384f05761f15d0cc899d4f9f9cc0eb   \n",
       "4  0x990f341946a3fdb507ae7e52d17851b87168017c   \n",
       "\n",
       "                                   err  algo_time algo     block  prep_time  \\\n",
       "0  exception: Negative cycle detected.   0.737254   bf  22820266   0.000001   \n",
       "1  exception: Negative cycle detected.   0.720065   bf  22820266   0.000001   \n",
       "2  exception: Negative cycle detected.   0.741767   bf  22820266   0.000001   \n",
       "3  exception: Negative cycle detected.   0.735582   bf  22820266   0.000001   \n",
       "4  exception: Negative cycle detected.   0.891082   bf  22820266   0.000001   \n",
       "\n",
       "   n_nodes  n_edges  top_coin_count  avg_time  is_timeout  is_failed  \n",
       "0     1000     4414            1000  0.737254       False       True  \n",
       "1     1000     4414            1000       NaN       False       True  \n",
       "2     1000     4414            1000       NaN       False       True  \n",
       "3     1000     4414            1000       NaN       False       True  \n",
       "4     1000     4414            1000       NaN       False       True  "
      ]
     },
     "execution_count": 25,
     "metadata": {},
     "output_type": "execute_result"
    }
   ],
   "source": [
    "df = pd.read_csv(\"../data/aggregated/aggregated_1752099016.csv.gz\", compression=\"gzip\")\n",
    "df.head()"
   ]
  },
  {
   "cell_type": "code",
   "execution_count": 26,
   "metadata": {},
   "outputs": [
    {
     "data": {
      "text/html": [
       "<div>\n",
       "<style scoped>\n",
       "    .dataframe tbody tr th:only-of-type {\n",
       "        vertical-align: middle;\n",
       "    }\n",
       "\n",
       "    .dataframe tbody tr th {\n",
       "        vertical-align: top;\n",
       "    }\n",
       "\n",
       "    .dataframe thead th {\n",
       "        text-align: right;\n",
       "    }\n",
       "</style>\n",
       "<table border=\"1\" class=\"dataframe\">\n",
       "  <thead>\n",
       "    <tr style=\"text-align: right;\">\n",
       "      <th></th>\n",
       "      <th>algo</th>\n",
       "      <th>bf</th>\n",
       "      <th>ours</th>\n",
       "    </tr>\n",
       "    <tr>\n",
       "      <th>coin</th>\n",
       "      <th>top_coin_count</th>\n",
       "      <th></th>\n",
       "      <th></th>\n",
       "    </tr>\n",
       "  </thead>\n",
       "  <tbody>\n",
       "    <tr>\n",
       "      <th>0x0000000000c5dc95539589fbd24be07c6c14eca4</th>\n",
       "      <th>1000</th>\n",
       "      <td>0.756020</td>\n",
       "      <td>0.002538</td>\n",
       "    </tr>\n",
       "    <tr>\n",
       "      <th>0x0000000042156d92b07fe81612746072f18a1fb8</th>\n",
       "      <th>1000</th>\n",
       "      <td>0.677605</td>\n",
       "      <td>0.001868</td>\n",
       "    </tr>\n",
       "    <tr>\n",
       "      <th>0x00000000a15fe6875e700d7c1ebbca2367219955</th>\n",
       "      <th>1000</th>\n",
       "      <td>0.675949</td>\n",
       "      <td>0.001819</td>\n",
       "    </tr>\n",
       "    <tr>\n",
       "      <th>0x00000000e88649dd6aab90088ca25d772d4607d0</th>\n",
       "      <th>1000</th>\n",
       "      <td>0.656062</td>\n",
       "      <td>0.001798</td>\n",
       "    </tr>\n",
       "    <tr>\n",
       "      <th>0x00000000efe302beaa2b3e6e1b18d08d69a9012a</th>\n",
       "      <th>1000</th>\n",
       "      <td>0.679918</td>\n",
       "      <td>0.002119</td>\n",
       "    </tr>\n",
       "  </tbody>\n",
       "</table>\n",
       "</div>"
      ],
      "text/plain": [
       "algo                                                             bf      ours\n",
       "coin                                       top_coin_count                    \n",
       "0x0000000000c5dc95539589fbd24be07c6c14eca4 1000            0.756020  0.002538\n",
       "0x0000000042156d92b07fe81612746072f18a1fb8 1000            0.677605  0.001868\n",
       "0x00000000a15fe6875e700d7c1ebbca2367219955 1000            0.675949  0.001819\n",
       "0x00000000e88649dd6aab90088ca25d772d4607d0 1000            0.656062  0.001798\n",
       "0x00000000efe302beaa2b3e6e1b18d08d69a9012a 1000            0.679918  0.002119"
      ]
     },
     "execution_count": 26,
     "metadata": {},
     "output_type": "execute_result"
    }
   ],
   "source": [
    "# Filter out rows where is_timeout or is_failed is True\n",
    "# filtered_df = df[(df['is_timeout'] == False) & (df['is_failed'] == False)]\n",
    "filtered_df = df[(df['is_timeout'] == False)]\n",
    "\n",
    "# Keep only rows where algo is 'ours' or compare_algo\n",
    "filtered_df = filtered_df[filtered_df['algo'].isin(['ours', compare_algo])]\n",
    "\n",
    "# Pivot so that for each coin/block, we keep only those that have both 'ours' and compare_algo responses\n",
    "pivoted = filtered_df.pivot_table(\n",
    "    index=['coin', 'top_coin_count'],\n",
    "    columns='algo',\n",
    "    values='avg_time'\n",
    ")\n",
    "\n",
    "# Drop rows where either 'ours' or compare_algo is missing (i.e., keep only coins/blocks with both responses)\n",
    "pivoted = pivoted.dropna(subset=['ours', compare_algo])\n",
    "\n",
    "pivoted.head()\n"
   ]
  },
  {
   "cell_type": "code",
   "execution_count": 27,
   "metadata": {},
   "outputs": [
    {
     "data": {
      "text/plain": [
       "array([  1000,    100,  10000, 100000])"
      ]
     },
     "execution_count": 27,
     "metadata": {},
     "output_type": "execute_result"
    }
   ],
   "source": [
    "pivoted.reset_index().top_coin_count.unique()"
   ]
  },
  {
   "cell_type": "code",
   "execution_count": 28,
   "metadata": {},
   "outputs": [
    {
     "name": "stdout",
     "output_type": "stream",
     "text": [
      "Average runtime of 'ours' algo by top_coin_count:\n",
      "top_coin_count\n",
      "100       0.000246\n",
      "1000      0.002183\n",
      "10000     0.019264\n",
      "100000    0.232353\n",
      "Name: ours, dtype: float64\n"
     ]
    }
   ],
   "source": [
    "# Calculate average runtime of 'ours' algo for each top_coin_count\n",
    "avg_ours_runtime_by_top_coin_count = pivoted.reset_index().groupby('top_coin_count')['ours'].mean()\n",
    "print(\"Average runtime of 'ours' algo by top_coin_count:\")\n",
    "print(avg_ours_runtime_by_top_coin_count)\n"
   ]
  },
  {
   "cell_type": "code",
   "execution_count": 29,
   "metadata": {},
   "outputs": [
    {
     "name": "stdout",
     "output_type": "stream",
     "text": [
      "Relative difference statistics (bf / ours):\n",
      "347.7205448115662\n"
     ]
    },
    {
     "data": {
      "image/png": "[encoded data removed]",
      "text/plain": [
       "<Figure size 640x480 with 1 Axes>"
      ]
     },
     "metadata": {},
     "output_type": "display_data"
    }
   ],
   "source": [
    "# Calculate how much faster 'ours' algo is compared to compare_algo using the formula:\n",
    "# (ours_time - mmbf_time) / mmbf_time\n",
    "\n",
    "pivoted['relative_diff'] = (pivoted[compare_algo]/ pivoted['ours'])\n",
    "\n",
    "pivoted.to_csv(f\"../data/compare/pivoted_{compare_algo}.csv\")\n",
    "\n",
    "\n",
    "print(f\"Relative difference statistics ({compare_algo} / ours):\")\n",
    "print(pivoted['relative_diff'].median())\n",
    "\n",
    "# Optionally, show a histogram\n",
    "pivoted['relative_diff'].hist(bins=50)\n",
    "plt.xlabel(f\"Relative Difference ({compare_algo} / ours)\")\n",
    "plt.ylabel('Count')\n",
    "plt.title(f'Distribution of Relative Difference: ours vs {compare_algo}')\n",
    "plt.show()\n",
    "\n"
   ]
  }
 ],
 "metadata": {
  "kernelspec": {
   "display_name": ".venv",
   "language": "python",
   "name": "python3"
  },
  "language_info": {
   "codemirror_mode": {
    "name": "ipython",
    "version": 3
   },
   "file_extension": ".py",
   "mimetype": "text/x-python",
   "name": "python",
   "nbconvert_exporter": "python",
   "pygments_lexer": "ipython3",
   "version": "3.9.6"
  }
 },
 "nbformat": 4,
 "nbformat_minor": 2
}
